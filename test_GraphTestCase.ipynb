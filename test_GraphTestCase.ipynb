{
 "cells": [
  {
   "cell_type": "code",
   "execution_count": 3,
   "metadata": {},
   "outputs": [],
   "source": [
    "import unittest\n",
    "from Graph import *\n",
    "\n",
    "# setup the graph test case class by having the setup be initialized to an instance of a Graph object\n",
    "class GraphTestCase(unittest.TestCase):\n",
    "    # make a test setup for each testcase function\n",
    "    # start by making an object adopting the features of the class your testing\n",
    "    def setUp(self):\n",
    "        self.graph = Graph()\n",
    "    \n",
    "    # add a test function for each of the functions in the graph\n",
    "    # this one inparticular is for testing the addVertex method\n",
    "    def test_addVertex(self):\n",
    "        self.graph.addVertex(0)\n",
    "        self.assertTrue(0 in self.graph.vertDict)\n",
    "        \n",
    "    # this one in particular is for testing metho addEdge\n",
    "    def test_addEdge(self):\n",
    "        self.graph.addEdge(0,1,1)\n",
    "        self.graph.addEdge(2,3,1,1)\n",
    "        self.assertIn(1, self.graph.vertDict)\n",
    "        self.assertIn(2, self.graph.vertDict)\n",
    "        self.assertIn(3, self.graph.vertDict)\n",
    "        self.assertIn(1, self.graph.vertDict[0].neighborsList)\n",
    "        self.assertIn(3, self.graph.vertDict[2].neighborsList)\n",
    "        self.assertIn(2, self.graph.vertDict[3].neighborsList)\n",
    "        self.assertEqual(1, self.graph.vertDict[0].neighborsList[1])\n",
    "        self.assertEqual(1, self.graph.vertDict[2].neighborsList[3])\n",
    "        self.assertEqual(1, self.graph.vertDict[3].neighborsList[2])\n",
    "    \n",
    "    def test_delVertex(self):\n",
    "        self.graph.delVertex(1)\n",
    "        self.assertIsNone(self.graph[0])\n",
    "        self.assertIsNone(self.graph[1].neighborsList[0])\n",
    "        \n",
    "    def test_delEdge(self):\n",
    "        self.graph.delEdge(2,3)\n",
    "        self.assertIsNone(self.vertDict[2].neighborsList[3])\n",
    "    \n",
    "    def test_getVertices(self):\n",
    "        self.graph.getVertices()\n",
    "        \n",
    "    def test_printVertices(self):\n",
    "        self.graph.printVerticesAndEdges()\n",
    "                  \n",
    "# main function to run through all of the test function made in the test case\n",
    "# use the middle arugrument argv=['first-arg-is-ignored'], exit = False because in ipy/ipynb files\n",
    "# unittest.main looks at sys.argv first so you ignore argv so that unittest.main runs\n",
    "if __name__ == 'main':\n",
    "    unittest.main(argv=['first-arg-is-ignored'], exit=False)"
   ]
  }
 ],
 "metadata": {
  "kernelspec": {
   "display_name": "Python 3",
   "language": "python",
   "name": "python3"
  },
  "language_info": {
   "codemirror_mode": {
    "name": "ipython",
    "version": 3
   },
   "file_extension": ".py",
   "mimetype": "text/x-python",
   "name": "python",
   "nbconvert_exporter": "python",
   "pygments_lexer": "ipython3",
   "version": "3.6.1"
  }
 },
 "nbformat": 4,
 "nbformat_minor": 2
}
