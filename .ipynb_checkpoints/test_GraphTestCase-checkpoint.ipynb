{
 "cells": [
  {
   "cell_type": "code",
   "execution_count": 1,
   "metadata": {},
   "outputs": [
    {
     "name": "stderr",
     "output_type": "stream",
     "text": [
      "."
     ]
    },
    {
     "name": "stdout",
     "output_type": "stream",
     "text": [
      "Vertex: 0, Neighbor: 2, Edge Weight: 1\n",
      "Vertex: 0, Neighbor: 5, Edge Weight: 1\n",
      "Vertex: 2, Neighbor: 0, Edge Weight: 1\n",
      "Vertex: 5, Neighbor: 0, Edge Weight: 1\n"
     ]
    },
    {
     "name": "stderr",
     "output_type": "stream",
     "text": [
      "\n",
      "----------------------------------------------------------------------\n",
      "Ran 1 test in 0.006s\n",
      "\n",
      "OK\n"
     ]
    },
    {
     "data": {
      "text/plain": [
       "'\\nmainGraph = Graph(9)\\nfor i in range(len(mainGraph.matrix)):\\n  mainGraph.addVertex(i)\\nmainGraph.addEdge(0,1,5)\\nmainGraph.addEdge(5,4,6)\\nmainGraph.addEdge(5,6,4)\\nmainGraph.addEdge(8,5,5)\\nprint(mainGraph.getVertices())\\nmainGraph.printVertDict()\\nmainGraph.printMatrix()\\n'"
      ]
     },
     "execution_count": 1,
     "metadata": {},
     "output_type": "execute_result"
    }
   ],
   "source": [
    "# Graph with a preset size of 9\n",
    "import unittest\n",
    "from Graph import *\n",
    "\n",
    "# setup the graph test case class by having the setup be initialized to an instance of a Graph object\n",
    "class GraphTestCase(unittest.TestCase):\n",
    "    def setUp(self):\n",
    "        self.Graph = Graph()\n",
    "    \n",
    "    # add a test function for each of the functions in the graph\n",
    "    # this one in particular is for testing metho addEdge\n",
    "    def test_addEdge(self, v1, v2, weight):\n",
    "        try:\n",
    "            self.Graph.addEdge(v1,v2, weight)\n",
    "        except:\n",
    "    \n",
    "    def test_addVertex(self)\n",
    "            \n",
    "        \n",
    "        \n",
    "# main function to run through all of the test function made in the test case\n",
    "# use the middle arugrument argv=['first-arg-is-ignored'], exit = False because in ipy/ipynb files\n",
    "# unittest.main looks at sys.argv first so you ignore argv so that unittest.main runs\n",
    "if __name__ == '__main__':\n",
    "    unittest.main(argv=['first-arg-is-ignored'], exit=False)\n",
    "\"\"\"\n",
    "example test function\n",
    "        self.Graph.addVertex(0)\n",
    "        self.Graph.addVertex(2)\n",
    "        self.Graph.addEdge(0,2,1)\n",
    "        self.Graph.addEdge(0,5,1)\n",
    "        self.Graph.addEdge(2,0,1)\n",
    "        self.Graph.addEdge(5,0,1)\n",
    "        self.Graph.printVerticesAndEdges()\n",
    "\"\"\""
   ]
  },
  {
   "cell_type": "code",
   "execution_count": null,
   "metadata": {
    "collapsed": true
   },
   "outputs": [],
   "source": []
  },
  {
   "cell_type": "code",
   "execution_count": null,
   "metadata": {
    "collapsed": true
   },
   "outputs": [],
   "source": []
  }
 ],
 "metadata": {
  "kernelspec": {
   "display_name": "Python 3",
   "language": "python",
   "name": "python3"
  },
  "language_info": {
   "codemirror_mode": {
    "name": "ipython",
    "version": 3
   },
   "file_extension": ".py",
   "mimetype": "text/x-python",
   "name": "python",
   "nbconvert_exporter": "python",
   "pygments_lexer": "ipython3",
   "version": "3.6.1"
  }
 },
 "nbformat": 4,
 "nbformat_minor": 2
}
