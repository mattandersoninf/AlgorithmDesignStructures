{
 "cells": [
  {
   "cell_type": "code",
   "execution_count": 1,
   "metadata": {},
   "outputs": [
    {
     "name": "stderr",
     "output_type": "stream",
     "text": [
      "...\n",
      "----------------------------------------------------------------------\n",
      "Ran 3 tests in 0.009s\n",
      "\n",
      "OK\n"
     ]
    }
   ],
   "source": [
    "# python testing class\n",
    "import unittest\n",
    "# you don't have to call the Dynamic Program class every time you want to initiate an instance of the class\n",
    "from DynamicProgram import *\n",
    "# make DynamicProgramTestCase class a take in the testCase properties from unittest\n",
    "class DynamicProgramTestCase(unittest.TestCase):\n",
    "    # make a setUp function any time you want to initialize a class adoption TestCase's properties\n",
    "    def setUp(self):\n",
    "        # grab the DynamicProgram class for testing\n",
    "        self.dynProgObj = DynamicProgram()\n",
    "    def test_fib0(self):\n",
    "        # test the fibonacci function base case by affirming that fib(0) returns 0\n",
    "        self.assertEqual(self.dynProgObj.fib(0), 0)\n",
    "    def test_fib1(self):\n",
    "        # test the fibonacci function base case by affirming that the fib(1) returns 1\n",
    "        self.assertEqual(self.dynProgObj.fib(1), 1)\n",
    "    def test_fib100(self):\n",
    "        # test the fibonnacci fucntion base case by affirming that fib(100) returns the fibonnaci of 100\n",
    "        self.assertEqual(self.dynProgObj.fib(100),354224848179261915075)\n",
    "\n",
    "# main funnction to run through all of the test function made in the test case\n",
    "# use the middle arugrument argv=['first-arg-is-ignored'], exit = False because in ipy/ipynb files\n",
    "# unittest.main looks at sys.argv first so you ignore argv so that unittest.main runs\n",
    "if __name__ == '__main__':\n",
    "    unittest.main(argv=['first-arg-is-ignored'], exit=False)\n"
   ]
  }
 ],
 "metadata": {
  "kernelspec": {
   "display_name": "Python 3",
   "language": "python",
   "name": "python3"
  },
  "language_info": {
   "codemirror_mode": {
    "name": "ipython",
    "version": 3
   },
   "file_extension": ".py",
   "mimetype": "text/x-python",
   "name": "python",
   "nbconvert_exporter": "python",
   "pygments_lexer": "ipython3",
   "version": "3.6.1"
  }
 },
 "nbformat": 4,
 "nbformat_minor": 2
}
