{
 "cells": [
  {
   "cell_type": "code",
   "execution_count": 1,
   "metadata": {},
   "outputs": [
    {
     "name": "stderr",
     "output_type": "stream",
     "text": [
      "...\n",
      "----------------------------------------------------------------------\n",
      "Ran 3 tests in 0.014s\n",
      "\n",
      "OK\n"
     ]
    }
   ],
   "source": [
    "\n",
    "import unittest\n",
    "import DynamicProgram\n",
    "\n",
    "class FiboncciTestCase(unittest.TestCase):\n",
    "    def setUp(self):\n",
    "        self.dynProgObj = DynamicProgram.DynamicProgram()\n",
    "    \n",
    "    def test_fib0(self):\n",
    "        assert self.dynProgObj.fib(0) == 0\n",
    "    def test_fib1(self):\n",
    "        assert self.dynProgObj.fib(1) == 1\n",
    "    def test_fib100(self):\n",
    "        assert self.dynProgObj.fib(100) == 354224848179261915075\n",
    "    def test_climb_stairs_4_3(self):\n",
    "        # permutations = {[1,1,1,1],[1,1,2],[1,2,1],[1,3],[2,1,1],[2,2],[3,1]}\n",
    "        # answer = len(permutations) = 7\n",
    "        assert self.dynProgObj.climb_stairs(4,3) == 7\n",
    "        # permutations = {[1,1,1,1,1],[1,1,1,2],[1,1,2,1],[1,1,3],[1,2,1,1],[1,2,2],[1,3,1],[2,1,1,1],[2,1,2],[2,2,1],[2,3],[3,1,1],[3,2]}\n",
    "        # answer = len(permutations) = 13\n",
    "    def test_climbs_stairs_5_3(self):\n",
    "        assert self.dynProgObj.climb_stairs(5,3) == 13\n",
    "    \n",
    "    \n",
    "    def test_coin_change(self):\n",
    "        # combinations = {[1,1]}\n",
    "        # answer = len(combinations) = 1\n",
    "        assert self.dynProgObj.coin_change(2,[5,1]) == 1\n",
    "        # assert self.dynProgObj.coin_change(2,[1,5]) == 1\n",
    "        # combinations = {[1,1,1,1,1,1], [1,5]}\n",
    "        # answer = len(combinations) = 2\n",
    "        assert self.dynProgObj.coin_change(6,[5,1]) == 2\n",
    "        # combinations = {[1,1,1,1,1,1,1,1,1,1,1], [1,1,1,1,1,1,5], [1,5,5]}\n",
    "        # answer = len(combination) = 3\n",
    "        assert self.dynProgObj.coin_change(11,[5,1]) == 3 \n",
    "        # combinations = {[1,1,1,1,1,1,1,1,1,1,1], [1,1,1,1,1,1,5], [1,5,5], [1,10]}\n",
    "        # answer = len(combination) = 4\n",
    "        assert self.dynProgObj.coin_change(11,[10,5,1]) == 4\n",
    "\n",
    "# main funnction to run through all of the test function made in the test case\n",
    "# use the middle arugrument argv=['first-arg-is-ignored'], exit = False because in ipy/ipynb files\n",
    "# unittest.main looks at sys.argv first so you ignore argv so that unittest.main runs\n",
    "if __name__ == '__main__':\n",
    "    unittest.main(argv=['first-arg-is-ignored'], exit=False)\n"
   ]
  }
 ],
 "metadata": {
  "kernelspec": {
   "display_name": "Python 3",
   "language": "python",
   "name": "python3"
  },
  "language_info": {
   "codemirror_mode": {
    "name": "ipython",
    "version": 3
   },
   "file_extension": ".py",
   "mimetype": "text/x-python",
   "name": "python",
   "nbconvert_exporter": "python",
   "pygments_lexer": "ipython3",
   "version": "3.6.1"
  }
 },
 "nbformat": 4,
 "nbformat_minor": 2
}
