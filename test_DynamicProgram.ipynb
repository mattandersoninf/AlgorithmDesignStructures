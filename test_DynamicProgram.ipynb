{
 "cells": [
  {
   "cell_type": "code",
   "execution_count": 1,
   "metadata": {},
   "outputs": [
    {
     "name": "stderr",
     "output_type": "stream",
     "text": [
      "...\n",
      "----------------------------------------------------------------------\n",
      "Ran 3 tests in 0.009s\n",
      "\n",
      "OK\n"
     ]
    }
   ],
   "source": [
    "import unittest\n",
    "import DynamicProgram\n",
    "class DynamicProgramTestCase(unittest.TestCase):\n",
    "    def setUp(self):\n",
    "        self.dynProgObj = DynamicProgram.DynamicProgram()\n",
    "    def test_fib0(self):\n",
    "        self.assertEqual(self.dynProgObj.fib(0), 0)\n",
    "    def test_fib1(self):\n",
    "        self.assertEqual(self.dynProgObj.fib(1), 1)\n",
    "    def test_fib100(self):\n",
    "        self.assertEqual(self.dynProgObj.fib(100),354224848179261915075)\n",
    "\n",
    "if __name__ == '__main__':\n",
    "    unittest.main(argv=['first-arg-is-ignored'], exit=False)\n"
   ]
  },
  {
   "cell_type": "code",
   "execution_count": null,
   "metadata": {
    "collapsed": true
   },
   "outputs": [],
   "source": []
  }
 ],
 "metadata": {
  "kernelspec": {
   "display_name": "Python 3",
   "language": "python",
   "name": "python3"
  },
  "language_info": {
   "codemirror_mode": {
    "name": "ipython",
    "version": 3
   },
   "file_extension": ".py",
   "mimetype": "text/x-python",
   "name": "python",
   "nbconvert_exporter": "python",
   "pygments_lexer": "ipython3",
   "version": "3.6.1"
  }
 },
 "nbformat": 4,
 "nbformat_minor": 2
}
